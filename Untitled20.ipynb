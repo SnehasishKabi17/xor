{
  "nbformat": 4,
  "nbformat_minor": 0,
  "metadata": {
    "colab": {
      "provenance": [],
      "authorship_tag": "ABX9TyMI9uo7wQ0sRX7JuCKKMeRm",
      "include_colab_link": true
    },
    "kernelspec": {
      "name": "python3",
      "display_name": "Python 3"
    },
    "language_info": {
      "name": "python"
    }
  },
  "cells": [
    {
      "cell_type": "markdown",
      "metadata": {
        "id": "view-in-github",
        "colab_type": "text"
      },
      "source": [
        "<a href=\"https://colab.research.google.com/github/SnehasishKabi17/xor/blob/main/Untitled20.ipynb\" target=\"_parent\"><img src=\"https://colab.research.google.com/assets/colab-badge.svg\" alt=\"Open In Colab\"/></a>"
      ]
    },
    {
      "cell_type": "code",
      "execution_count": null,
      "metadata": {
        "id": "lXkP-YijbOn2",
        "colab": {
          "base_uri": "https://localhost:8080/"
        },
        "outputId": "37163f70-1969-4133-bbb1-0cd235f7cd85"
      },
      "outputs": [
        {
          "output_type": "stream",
          "name": "stdout",
          "text": [
            "XOR(0,1)=1\n",
            "XOR(1,1)=0\n",
            "XOR(0,0)=0\n",
            "XOR(1,0)=1\n"
          ]
        }
      ],
      "source": [
        "import numpy as np\n",
        "#define unit step function\n",
        "# activation function\n",
        "def unitStep(v):\n",
        "    if v>=0:\n",
        "        return 1\n",
        "    else:\n",
        "        return 0\n",
        "#design Perceptron model\n",
        "def perceptronModel(x,w,b):\n",
        "    v=np.dot(w,x)+b\n",
        "    y=unitStep(v)\n",
        "    return y\n",
        "\n",
        "\n",
        "\n",
        "#NOT logic function\n",
        "#wNOT=-1,bNOT=0.5\n",
        "def NOT_logicFunction(x):\n",
        "    wNOT=-1\n",
        "    bNOT=0.5\n",
        "    return perceptronModel(x,wNOT,bNOT)\n",
        "\n",
        "#AND logic function\n",
        "#here w1=wAND=1,\n",
        "#w2=wAND=1,bAND=-1.5\n",
        "def AND_logicFunction(x):\n",
        "    w=np.array([1,1])\n",
        "    bAND=-1.5\n",
        "    return perceptronModel(x,w,bAND)\n",
        "\n",
        "#OR logic function\n",
        "#w1=1,w2=1,bOR=-0.5\n",
        "def OR_logicFunction(x):\n",
        "    w=np.array([1,1])\n",
        "    bOR=-0.5\n",
        "    return perceptronModel(x,w,bOR)\n",
        "\n",
        "#XOR logic function\n",
        "#with AND, OR and NOT\n",
        "#function calls in sequence\n",
        "def XOR_logicFunction(x):\n",
        "    y1=AND_logicFunction(x)\n",
        "    y2=OR_logicFunction(x)\n",
        "    y3=NOT_logicFunction(y1)\n",
        "    final_x=np.array([y2,y3])\n",
        "    finalOutput=AND_logicFunction(final_x)\n",
        "    return finalOutput\n",
        "#testing the perceptron model\n",
        "test1=np.array([0,1])\n",
        "test2=np.array([1,1])\n",
        "test3=np.array([0,0])\n",
        "test4=np.array([1,0])\n",
        "\n",
        "print(\"XOR({},{})={}\".format(0,1,XOR_logicFunction(test1)))\n",
        "print(\"XOR({},{})={}\".format(1,1,XOR_logicFunction(test2)))\n",
        "print(\"XOR({},{})={}\".format(0,0,XOR_logicFunction(test3)))\n",
        "print(\"XOR({},{})={}\".format(1,0,XOR_logicFunction(test4)))\n"
      ]
    },
    {
      "cell_type": "code",
      "source": [
        "#updating weights and bias\n",
        "import numpy as np\n",
        "\n",
        "# Define unit step function (activation function)\n",
        "def unitStep(v):\n",
        "    return 1 if v >= 0 else 0\n",
        "\n",
        "# Define the perceptron model (with weight and bias updates)\n",
        "class Perceptron:\n",
        "    def __init__(self, n_iterations=10, learning_rate=0.1):\n",
        "        self.n_iterations = n_iterations\n",
        "        self.learning_rate = learning_rate\n",
        "        self.weights = None\n",
        "        self.bias = None\n",
        "\n",
        "    # Perceptron prediction (linear output + activation)\n",
        "    def perceptronModel(self, x):\n",
        "        v = np.dot(x, self.weights) + self.bias\n",
        "        y = unitStep(v)\n",
        "        return y\n",
        "\n",
        "    # Train the perceptron (adjusting weights and bias)\n",
        "    def fit(self, X, y):\n",
        "        n_samples, n_features = X.shape\n",
        "        # Initialize weights and bias\n",
        "        self.weights = np.zeros(n_features)\n",
        "        self.bias = 0\n",
        "\n",
        "        # Training process\n",
        "        for _ in range(self.n_iterations):\n",
        "            for i in range(n_samples):\n",
        "                # Calculate linear output and prediction\n",
        "                linear_output = np.dot(X[i], self.weights) + self.bias\n",
        "                y_predicted = unitStep(linear_output)\n",
        "\n",
        "                # Calculate the update\n",
        "                update = self.learning_rate * (y[i] - y_predicted)\n",
        "\n",
        "                # Update the weights and bias\n",
        "                self.weights += update * X[i]\n",
        "                self.bias += update\n",
        "\n",
        "    # Logic gate functions using learned weights\n",
        "    def AND_logicFunction(self, x):\n",
        "        return self.perceptronModel(x)\n",
        "\n",
        "    def OR_logicFunction(self, x):\n",
        "        return self.perceptronModel(x)\n",
        "\n",
        "    def NOT_logicFunction(self, x):\n",
        "        # Special case since NOT gate is unary (single input)\n",
        "        w = np.array([-1])\n",
        "        b = 0.5\n",
        "        v = np.dot(w, x) + b\n",
        "        return unitStep(v)\n",
        "\n",
        "    def XOR_logicFunction(self, x):\n",
        "        y1 = self.AND_logicFunction(x)\n",
        "        y2 = self.OR_logicFunction(x)\n",
        "        y3 = self.NOT_logicFunction(np.array([y1]))\n",
        "        final_x = np.array([y2, y3])\n",
        "        finalOutput = self.AND_logicFunction(final_x)\n",
        "        return finalOutput\n",
        "\n",
        "# Training data for AND, OR, and XOR gates\n",
        "X_train = np.array([[0, 0], [0, 1], [1, 0], [1, 1]])\n",
        "\n",
        "# Labels for AND gate\n",
        "y_AND = np.array([0, 0, 0, 1])  # AND truth table\n",
        "# Labels for OR gate\n",
        "y_OR = np.array([0, 1, 1, 1])   # OR truth table\n",
        "\n",
        "# Initialize Perceptron model\n",
        "perceptron = Perceptron(n_iterations=10, learning_rate=0.1)\n",
        "\n",
        "# Train for AND logic\n",
        "print(\"Training for AND gate...\")\n",
        "perceptron.fit(X_train, y_AND)\n",
        "\n",
        "# Test XOR logic using trained AND and OR gates\n",
        "test1 = np.array([0, 1])\n",
        "test2 = np.array([1, 1])\n",
        "test3 = np.array([0, 0])\n",
        "test4 = np.array([1, 0])\n",
        "\n",
        "print(\"XOR({},{})={}\".format(0,1,perceptron.XOR_logicFunction(test1)))\n",
        "print(\"XOR({},{})={}\".format(1,1,perceptron.XOR_logicFunction(test2)))\n",
        "print(\"XOR({},{})={}\".format(0,0,perceptron.XOR_logicFunction(test3)))\n",
        "print(\"XOR({},{})={}\".format(1,0,perceptron.XOR_logicFunction(test4)))\n",
        "\n"
      ],
      "metadata": {
        "id": "epFbC-QMl6nB",
        "colab": {
          "base_uri": "https://localhost:8080/"
        },
        "outputId": "9435d551-4a2a-4d1f-b44b-4b86abe44277"
      },
      "execution_count": null,
      "outputs": [
        {
          "output_type": "stream",
          "name": "stdout",
          "text": [
            "Training for AND gate...\n",
            "XOR(0,1)=0\n",
            "XOR(1,1)=0\n",
            "XOR(0,0)=0\n",
            "XOR(1,0)=0\n"
          ]
        }
      ]
    },
    {
      "cell_type": "code",
      "source": [],
      "metadata": {
        "id": "hNjjoSFCioRZ"
      },
      "execution_count": null,
      "outputs": []
    }
  ]
}